{
  "nbformat": 4,
  "nbformat_minor": 0,
  "metadata": {
    "colab": {
      "provenance": [],
      "authorship_tag": "ABX9TyN0M3TM0mnZGJpTwR/ykDnW",
      "include_colab_link": true
    },
    "kernelspec": {
      "name": "python3",
      "display_name": "Python 3"
    },
    "language_info": {
      "name": "python"
    }
  },
  "cells": [
    {
      "cell_type": "markdown",
      "metadata": {
        "id": "view-in-github",
        "colab_type": "text"
      },
      "source": [
        "<a href=\"https://colab.research.google.com/github/sharedlabs1/100-pandas-puzzles/blob/master/Copy_of_pysparkincollab.ipynb\" target=\"_parent\"><img src=\"https://colab.research.google.com/assets/colab-badge.svg\" alt=\"Open In Colab\"/></a>"
      ]
    },
    {
      "cell_type": "code",
      "execution_count": null,
      "metadata": {
        "colab": {
          "base_uri": "https://localhost:8080/",
          "height": 740
        },
        "id": "XCWj_Pl49Y5H",
        "outputId": "6ef3855f-aaeb-4e6b-a4d2-dcf2a2197ca9"
      },
      "outputs": [
        {
          "output_type": "stream",
          "name": "stdout",
          "text": [
            "Get:1 https://cloud.r-project.org/bin/linux/ubuntu jammy-cran40/ InRelease [3,632 B]\n",
            "Get:2 https://developer.download.nvidia.com/compute/cuda/repos/ubuntu2204/x86_64  InRelease [1,581 B]\n",
            "Hit:3 http://archive.ubuntu.com/ubuntu jammy InRelease\n",
            "Get:4 http://security.ubuntu.com/ubuntu jammy-security InRelease [129 kB]\n",
            "Get:5 https://r2u.stat.illinois.edu/ubuntu jammy InRelease [6,555 B]\n",
            "Get:6 http://archive.ubuntu.com/ubuntu jammy-updates InRelease [128 kB]\n",
            "Hit:7 https://ppa.launchpadcontent.net/deadsnakes/ppa/ubuntu jammy InRelease\n",
            "Hit:8 https://ppa.launchpadcontent.net/graphics-drivers/ppa/ubuntu jammy InRelease\n",
            "Hit:9 http://archive.ubuntu.com/ubuntu jammy-backports InRelease\n",
            "Hit:10 https://ppa.launchpadcontent.net/ubuntugis/ppa/ubuntu jammy InRelease\n",
            "Get:11 https://developer.download.nvidia.com/compute/cuda/repos/ubuntu2204/x86_64  Packages [1,604 kB]\n",
            "Get:12 https://r2u.stat.illinois.edu/ubuntu jammy/main amd64 Packages [2,696 kB]\n",
            "Get:13 https://r2u.stat.illinois.edu/ubuntu jammy/main all Packages [8,845 kB]\n",
            "Get:14 http://security.ubuntu.com/ubuntu jammy-security/restricted amd64 Packages [4,111 kB]\n",
            "Get:15 http://security.ubuntu.com/ubuntu jammy-security/main amd64 Packages [2,841 kB]\n",
            "Get:16 http://security.ubuntu.com/ubuntu jammy-security/universe amd64 Packages [1,243 kB]\n",
            "Get:17 http://archive.ubuntu.com/ubuntu jammy-updates/universe amd64 Packages [1,542 kB]\n",
            "Get:18 http://archive.ubuntu.com/ubuntu jammy-updates/main amd64 Packages [3,153 kB]\n",
            "Get:19 http://archive.ubuntu.com/ubuntu jammy-updates/restricted amd64 Packages [4,272 kB]\n",
            "Fetched 30.6 MB in 11s (2,749 kB/s)\n",
            "Reading package lists... Done\n",
            "Building dependency tree... Done\n",
            "Reading state information... Done\n",
            "35 packages can be upgraded. Run 'apt list --upgradable' to see them.\n",
            "\u001b[1;33mW: \u001b[0mSkipping acquire of configured file 'main/source/Sources' as repository 'https://r2u.stat.illinois.edu/ubuntu jammy InRelease' does not seem to provide it (sources.list entry misspelt?)\u001b[0m\n",
            "tar: spark-3.2.1-bin-hadoop3.2.tgz: Cannot open: No such file or directory\n",
            "tar: Error is not recoverable: exiting now\n",
            "Requirement already satisfied: pyspark in /usr/local/lib/python3.11/dist-packages (3.5.5)\n",
            "Requirement already satisfied: py4j==0.10.9.7 in /usr/local/lib/python3.11/dist-packages (from pyspark) (0.10.9.7)\n",
            "Requirement already satisfied: py4j in /usr/local/lib/python3.11/dist-packages (0.10.9.7)\n"
          ]
        },
        {
          "output_type": "execute_result",
          "data": {
            "text/plain": [
              "<pyspark.sql.session.SparkSession at 0x7ed22d76c4d0>"
            ],
            "text/html": [
              "\n",
              "            <div>\n",
              "                <p><b>SparkSession - in-memory</b></p>\n",
              "                \n",
              "        <div>\n",
              "            <p><b>SparkContext</b></p>\n",
              "\n",
              "            <p><a href=\"http://1a706897ac76:4040\">Spark UI</a></p>\n",
              "\n",
              "            <dl>\n",
              "              <dt>Version</dt>\n",
              "                <dd><code>v3.5.5</code></dd>\n",
              "              <dt>Master</dt>\n",
              "                <dd><code>local[*]</code></dd>\n",
              "              <dt>AppName</dt>\n",
              "                <dd><code>Our First Spark Example</code></dd>\n",
              "            </dl>\n",
              "        </div>\n",
              "        \n",
              "            </div>\n",
              "        "
            ]
          },
          "metadata": {},
          "execution_count": 1
        }
      ],
      "source": [
        "!sudo apt update\n",
        "!apt-get install openjdk-8-jdk-headless -qq > /dev/null\n",
        "#Check this site for the latest download link https://www.apache.org/dyn/closer.lua/spark/spark-3.2.1/spark-3.2.1-bin-hadoop3.2.tgz\n",
        "!wget -q https://dlcdn.apache.org/spark/spark-3.2.1/spark-3.2.1-bin-hadoop3.2.tgz\n",
        "!tar xf spark-3.2.1-bin-hadoop3.2.tgz\n",
        "!pip install -q findspark\n",
        "!pip install pyspark\n",
        "!pip install py4j\n",
        "\n",
        "import os\n",
        "import sys\n",
        "# os.environ[\"JAVA_HOME\"] = \"/usr/lib/jvm/java-8-openjdk-amd64\"\n",
        "# os.environ[\"SPARK_HOME\"] = \"/content/spark-3.2.1-bin-hadoop3.2\"\n",
        "\n",
        "\n",
        "import findspark\n",
        "findspark.init()\n",
        "findspark.find()\n",
        "\n",
        "import pyspark\n",
        "\n",
        "from pyspark.sql import DataFrame, SparkSession\n",
        "from typing import List\n",
        "import pyspark.sql.types as T\n",
        "import pyspark.sql.functions as F\n",
        "\n",
        "spark= SparkSession \\\n",
        "       .builder \\\n",
        "       .appName(\"Our First Spark Example\") \\\n",
        "       .getOrCreate()\n",
        "\n",
        "spark"
      ]
    },
    {
      "cell_type": "code",
      "source": [
        "spark"
      ],
      "metadata": {
        "colab": {
          "base_uri": "https://localhost:8080/",
          "height": 219
        },
        "id": "-mQsLqdCJc0U",
        "outputId": "10399732-8e7f-4d04-fbb1-b84bb5cce28e"
      },
      "execution_count": null,
      "outputs": [
        {
          "output_type": "execute_result",
          "data": {
            "text/plain": [
              "<pyspark.sql.session.SparkSession at 0x7ed22d76c4d0>"
            ],
            "text/html": [
              "\n",
              "            <div>\n",
              "                <p><b>SparkSession - in-memory</b></p>\n",
              "                \n",
              "        <div>\n",
              "            <p><b>SparkContext</b></p>\n",
              "\n",
              "            <p><a href=\"http://1a706897ac76:4040\">Spark UI</a></p>\n",
              "\n",
              "            <dl>\n",
              "              <dt>Version</dt>\n",
              "                <dd><code>v3.5.5</code></dd>\n",
              "              <dt>Master</dt>\n",
              "                <dd><code>local[*]</code></dd>\n",
              "              <dt>AppName</dt>\n",
              "                <dd><code>Our First Spark Example</code></dd>\n",
              "            </dl>\n",
              "        </div>\n",
              "        \n",
              "            </div>\n",
              "        "
            ]
          },
          "metadata": {},
          "execution_count": 2
        }
      ]
    },
    {
      "cell_type": "markdown",
      "source": [
        "WHat is RDD?\n",
        "\n",
        "Resilient: Fault tolerant :can recover lost partitions\n",
        "\n",
        "Distributed: Data is split and processed across multiple nodes\n",
        "\n",
        "Immutable:Once Created ,it can not be modified, transformations will return new RDD\n",
        "\n",
        "Lazy Evaluation:transformations are executed only when action is called"
      ],
      "metadata": {
        "id": "m5RHwN_EKxuJ"
      }
    },
    {
      "cell_type": "code",
      "source": [
        "rdd=spark.sparkContext.parallelize([1,2,3,4,5])\n",
        "rdd.collect()"
      ],
      "metadata": {
        "colab": {
          "base_uri": "https://localhost:8080/"
        },
        "id": "jdwrEDp9Lu8G",
        "outputId": "190d4a54-3ea9-4144-c6ea-50628f218f6c"
      },
      "execution_count": null,
      "outputs": [
        {
          "output_type": "execute_result",
          "data": {
            "text/plain": [
              "[1, 2, 3, 4, 5]"
            ]
          },
          "metadata": {},
          "execution_count": 5
        }
      ]
    },
    {
      "cell_type": "markdown",
      "source": [
        "**Transformation : return new RDD **\n",
        "\n",
        "Transformation functions: map(),filter(),flatmap(),distict(),union()\n",
        "\n",
        "**RDD Actions: retunrs result **\n",
        "\n",
        "Action functions:collect(),count(),first(),take(5),saveAsTextFile()\n"
      ],
      "metadata": {
        "id": "wlH3DHxmMUx6"
      }
    },
    {
      "cell_type": "code",
      "source": [
        "data=[1,2,3,4,5]\n",
        "rdd=spark.sparkContext.parallelize(data)\n",
        "rdd2=rdd.map(lambda x: x*2)\n",
        "rdd2.collect()\n",
        "\n"
      ],
      "metadata": {
        "colab": {
          "base_uri": "https://localhost:8080/"
        },
        "id": "Rc3V8ZE1NKSQ",
        "outputId": "e29705ee-680f-429a-9a50-c4d6c573351c"
      },
      "execution_count": null,
      "outputs": [
        {
          "output_type": "execute_result",
          "data": {
            "text/plain": [
              "[2, 4, 6, 8, 10]"
            ]
          },
          "metadata": {},
          "execution_count": 6
        }
      ]
    },
    {
      "cell_type": "code",
      "source": [
        "data=[1,2,3,4,5]\n",
        "rdd=spark.sparkContext.parallelize(data)\n",
        "rdd2=rdd.filter(lambda x: x%2==0)\n",
        "rdd2.collect()"
      ],
      "metadata": {
        "colab": {
          "base_uri": "https://localhost:8080/"
        },
        "id": "LU9XVtPGNruK",
        "outputId": "1826b50b-25c9-45c5-b0f4-fd889983c7be"
      },
      "execution_count": null,
      "outputs": [
        {
          "output_type": "execute_result",
          "data": {
            "text/plain": [
              "[2, 4]"
            ]
          },
          "metadata": {},
          "execution_count": 7
        }
      ]
    },
    {
      "cell_type": "code",
      "source": [
        "words=[\"spark\",\"big\",\"data\",\"platform\",\"ml\",\"ai\"]\n",
        "\n",
        "rdd=spark.sparkContext.parallelize(words)\n",
        "\n",
        "long_words=rdd.filter(lambda x: len(x)>4)\n",
        "\n",
        "long_words.collect()\n",
        "\n"
      ],
      "metadata": {
        "colab": {
          "base_uri": "https://localhost:8080/"
        },
        "id": "f_H7BUUmOD5l",
        "outputId": "f35cda98-afd4-4e17-e6d6-7351303d6e9c"
      },
      "execution_count": null,
      "outputs": [
        {
          "output_type": "execute_result",
          "data": {
            "text/plain": [
              "['spark', 'platform']"
            ]
          },
          "metadata": {},
          "execution_count": 8
        }
      ]
    },
    {
      "cell_type": "code",
      "source": [
        "rdd1=spark.sparkContext.parallelize([1,2,3,4,5])\n",
        "rdd2=spark.sparkContext.parallelize([4,5,6,7,8])\n",
        "rdd3=rdd1.intersection(rdd2)\n",
        "rdd3.collect()"
      ],
      "metadata": {
        "colab": {
          "base_uri": "https://localhost:8080/"
        },
        "id": "QiWATCCrPc-O",
        "outputId": "df513c1c-5d90-4cc5-e06b-86da5f34a534"
      },
      "execution_count": null,
      "outputs": [
        {
          "output_type": "execute_result",
          "data": {
            "text/plain": [
              "[4, 5]"
            ]
          },
          "metadata": {},
          "execution_count": 10
        }
      ]
    },
    {
      "cell_type": "markdown",
      "source": [
        "#joins : join tables using a common key\n",
        "#joins :  join rrds using a common key"
      ],
      "metadata": {
        "id": "8CSo0QttP0Rd"
      }
    },
    {
      "cell_type": "code",
      "source": [
        "rdd1=spark.sparkContext.parallelize([(\"a\",1),(\"b\",2),(\"c\",3)])\n",
        "rdd2=spark.sparkContext.parallelize([(\"a\",\"sales\"),(\"b\",\"account\")])\n",
        "#inner join\n",
        "rdd3=rdd1.join(rdd2)\n",
        "rdd3.collect()\n",
        "\n",
        "#leftouter join\n",
        "\n",
        "left_join=rdd1.leftOuterJoin(rdd2)\n",
        "left_join.collect()\n",
        "\n",
        "#rightouter join\n",
        "\n",
        "right_join=rdd1.rightOuterJoin(rdd2)\n",
        "right_join.collect()\n",
        "\n"
      ],
      "metadata": {
        "colab": {
          "base_uri": "https://localhost:8080/"
        },
        "id": "_MxJkL9hPz98",
        "outputId": "104cfacc-90c6-4924-d6f2-3294557d72c4"
      },
      "execution_count": null,
      "outputs": [
        {
          "output_type": "execute_result",
          "data": {
            "text/plain": [
              "[('b', (2, 'account')), ('a', (1, 'sales'))]"
            ]
          },
          "metadata": {},
          "execution_count": 12
        }
      ]
    },
    {
      "cell_type": "markdown",
      "source": [
        "Partitions:\n",
        "\n",
        "Parallel\n",
        "\n",
        "Scalability\n",
        "\n",
        "Performance"
      ],
      "metadata": {
        "id": "2pD8aQoERxiu"
      }
    },
    {
      "cell_type": "code",
      "source": [
        "print(rdd1.getNumPartitions())"
      ],
      "metadata": {
        "colab": {
          "base_uri": "https://localhost:8080/"
        },
        "id": "12oNekLrRxGi",
        "outputId": "b5c49317-9abb-48ee-9d3b-f8f6a032c89e"
      },
      "execution_count": null,
      "outputs": [
        {
          "output_type": "stream",
          "name": "stdout",
          "text": [
            "2\n"
          ]
        }
      ]
    },
    {
      "cell_type": "code",
      "source": [
        "rdd1_p=rdd1.repartition(4)\n",
        "print(rdd1_p.getNumPartitions())"
      ],
      "metadata": {
        "colab": {
          "base_uri": "https://localhost:8080/"
        },
        "id": "xBMwe9TqPlaa",
        "outputId": "bbb49b91-5f28-47e2-dec3-0d29260b3dc1"
      },
      "execution_count": null,
      "outputs": [
        {
          "output_type": "stream",
          "name": "stdout",
          "text": [
            "4\n"
          ]
        }
      ]
    },
    {
      "cell_type": "code",
      "source": [
        "rdd1_p_r=rdd1_p.coalesce(2)\n",
        "print(rdd1_p_r.getNumPartitions())"
      ],
      "metadata": {
        "colab": {
          "base_uri": "https://localhost:8080/"
        },
        "id": "GSbKfzGcSWqS",
        "outputId": "847e059f-54a4-4e42-f52c-256adb203e2b"
      },
      "execution_count": null,
      "outputs": [
        {
          "output_type": "stream",
          "name": "stdout",
          "text": [
            "2\n"
          ]
        }
      ]
    },
    {
      "cell_type": "markdown",
      "source": [
        "Paired RDD:\n",
        "\n",
        "contains elements in key-value pair\n",
        "\n",
        "Joins\n",
        "\n",
        "Group\n",
        "\n",
        "aggregate\n",
        "\n",
        "Sorting"
      ],
      "metadata": {
        "id": "U3Axjz_lS0r7"
      }
    },
    {
      "cell_type": "code",
      "source": [
        "# prompt: create data which is list of  employees in various department\n",
        "data= [(\"sales\",\"emp1\"),(\"sales\",\"emp2\"),(\"sales\",\"emp3\"),(\"hr\",\"emp4\"),(\"hr\",\"emp5\"),(\"hr\",\"emp6\")]\n",
        "\n",
        "pairedrdd1=spark.sparkContext.parallelize(data)\n",
        "pairedrdd1.collect()\n",
        "\n",
        "grouped=pairedrdd1.groupByKey().mapValues(list)\n",
        "grouped.collect()\n",
        "\n"
      ],
      "metadata": {
        "colab": {
          "base_uri": "https://localhost:8080/"
        },
        "id": "Svm0o3L-Pcwp",
        "outputId": "0a3770b7-9fdf-4784-a125-22a18253c27b"
      },
      "execution_count": null,
      "outputs": [
        {
          "output_type": "execute_result",
          "data": {
            "text/plain": [
              "[('sales', ['emp1', 'emp2', 'emp3']), ('hr', ['emp4', 'emp5', 'emp6'])]"
            ]
          },
          "metadata": {},
          "execution_count": 18
        }
      ]
    },
    {
      "cell_type": "code",
      "source": [],
      "metadata": {
        "colab": {
          "base_uri": "https://localhost:8080/",
          "height": 35
        },
        "id": "LDSQtFHrJgWY",
        "outputId": "f010153d-40c0-4882-b7a6-4a22b5b93409"
      },
      "execution_count": null,
      "outputs": [
        {
          "output_type": "execute_result",
          "data": {
            "text/plain": [
              "''"
            ],
            "application/vnd.google.colaboratory.intrinsic+json": {
              "type": "string"
            }
          },
          "metadata": {},
          "execution_count": 4
        }
      ]
    },
    {
      "cell_type": "code",
      "source": [
        "rdd=spark.sparkContext.parallelize([1,2,3,4,5])\n",
        "rdd2=rdd.filter(lambda x: x%2==0) # transformation\n",
        "rdd2.collect() # action"
      ],
      "metadata": {
        "colab": {
          "base_uri": "https://localhost:8080/"
        },
        "id": "aSjVmLc6C8eW",
        "outputId": "4ba1fd80-47eb-40a3-ec87-a96d0ed83199"
      },
      "execution_count": null,
      "outputs": [
        {
          "output_type": "execute_result",
          "data": {
            "text/plain": [
              "[2, 4]"
            ]
          },
          "metadata": {},
          "execution_count": 2
        }
      ]
    },
    {
      "cell_type": "code",
      "source": [
        "rdd1=spark.sparkContext.parallelize([1,2,3,4,5])\n",
        "rdd2=spark.sparkContext.parallelize([4,5,6,7,8])\n",
        "rdd3=rdd1.union(rdd2)\n",
        "rdd3.collect()\n"
      ],
      "metadata": {
        "colab": {
          "base_uri": "https://localhost:8080/"
        },
        "id": "5vGUJlc6DPth",
        "outputId": "0b5b0a8b-c796-414c-bf94-2c7b9fff1dd3"
      },
      "execution_count": null,
      "outputs": [
        {
          "output_type": "execute_result",
          "data": {
            "text/plain": [
              "[1, 2, 3, 4, 5, 4, 5, 6, 7, 8]"
            ]
          },
          "metadata": {},
          "execution_count": 3
        }
      ]
    },
    {
      "cell_type": "code",
      "source": [
        "rdd1=spark.sparkContext.parallelize([1,2,3,4,5])\n",
        "rdd2=rdd1.map(lambda x: x*2)\n",
        "rdd2.collect()"
      ],
      "metadata": {
        "colab": {
          "base_uri": "https://localhost:8080/"
        },
        "id": "CyXSYwuhDd-f",
        "outputId": "2cad928a-3cb0-48c2-9d8a-a7b430f1787c"
      },
      "execution_count": null,
      "outputs": [
        {
          "output_type": "execute_result",
          "data": {
            "text/plain": [
              "[2, 4, 6, 8, 10]"
            ]
          },
          "metadata": {},
          "execution_count": 4
        }
      ]
    },
    {
      "cell_type": "code",
      "source": [
        "rdd1=spark.sparkContext.parallelize([(1,\"aaaa\"),(2,\"bbbb\"),(1,\"cccc\")])\n",
        "rdd2=rdd1.groupByKey()\n",
        "rdd2.collect()\n",
        "print([(k,list(v)) for k,v in rdd2.collect()])\n"
      ],
      "metadata": {
        "colab": {
          "base_uri": "https://localhost:8080/"
        },
        "id": "LD1uWoOBDvuy",
        "outputId": "8e182403-b9bc-4be0-9853-9625aba0db08"
      },
      "execution_count": null,
      "outputs": [
        {
          "output_type": "stream",
          "name": "stdout",
          "text": [
            "[(2, ['bbbb']), (1, ['aaaa', 'cccc'])]\n"
          ]
        }
      ]
    },
    {
      "cell_type": "code",
      "source": [
        "!ls -l\n"
      ],
      "metadata": {
        "colab": {
          "base_uri": "https://localhost:8080/"
        },
        "id": "zh1A-FkOzjM2",
        "outputId": "6d80a0bb-7aba-4672-c0c2-2a926f3c8765"
      },
      "execution_count": null,
      "outputs": [
        {
          "output_type": "stream",
          "name": "stdout",
          "text": [
            "total 4\n",
            "drwxr-xr-x 1 root root 4096 Feb  3 14:20 sample_data\n"
          ]
        }
      ]
    },
    {
      "cell_type": "code",
      "source": [
        "spark"
      ],
      "metadata": {
        "colab": {
          "base_uri": "https://localhost:8080/",
          "height": 216
        },
        "id": "kvDpZvni1jOR",
        "outputId": "2160068c-5b4c-4252-9815-67e486bdbf18"
      },
      "execution_count": null,
      "outputs": [
        {
          "output_type": "execute_result",
          "data": {
            "text/plain": [
              "<pyspark.sql.session.SparkSession at 0x7d32991f6680>"
            ],
            "text/html": [
              "\n",
              "            <div>\n",
              "                <p><b>SparkSession - in-memory</b></p>\n",
              "                \n",
              "        <div>\n",
              "            <p><b>SparkContext</b></p>\n",
              "\n",
              "            <p><a href=\"http://efaebcefae13:4040\">Spark UI</a></p>\n",
              "\n",
              "            <dl>\n",
              "              <dt>Version</dt>\n",
              "                <dd><code>v3.5.3</code></dd>\n",
              "              <dt>Master</dt>\n",
              "                <dd><code>local[*]</code></dd>\n",
              "              <dt>AppName</dt>\n",
              "                <dd><code>Our First Spark Example</code></dd>\n",
              "            </dl>\n",
              "        </div>\n",
              "        \n",
              "            </div>\n",
              "        "
            ]
          },
          "metadata": {},
          "execution_count": 17
        }
      ]
    },
    {
      "cell_type": "code",
      "source": [
        "from pyspark.sql.functions import col ,to_date\n",
        "import pyspark.sql.functions as F"
      ],
      "metadata": {
        "id": "tWrZ7mno1mGY"
      },
      "execution_count": null,
      "outputs": []
    },
    {
      "cell_type": "code",
      "source": [
        "dataset=[\n",
        "    (\"2023-01-01\",100.0),\n",
        "    (\"2023-01-02\",125.5),\n",
        "    (\"2023-01-03\",1115.0),\n",
        "    (\"2023-01-04\",100.0),\n",
        "    (\"2023-01-05\",102.0),\n",
        "    (\"2023-01-06\",104.5),\n",
        "    ]"
      ],
      "metadata": {
        "id": "7qIqSE_82AL8"
      },
      "execution_count": null,
      "outputs": []
    },
    {
      "cell_type": "code",
      "source": [
        "columns=[\"Date\",\"StockPrice\"]\n",
        "dft=spark.createDataFrame(dataset,columns)\n",
        "dft.show()"
      ],
      "metadata": {
        "colab": {
          "base_uri": "https://localhost:8080/"
        },
        "id": "ClrcgmXO2n9m",
        "outputId": "e00b5ad9-f30e-444b-e269-eff251c2e9ba"
      },
      "execution_count": null,
      "outputs": [
        {
          "output_type": "stream",
          "name": "stdout",
          "text": [
            "+----------+----------+\n",
            "|      Date|StockPrice|\n",
            "+----------+----------+\n",
            "|2023-01-01|     100.0|\n",
            "|2023-01-02|     125.5|\n",
            "|2023-01-03|    1115.0|\n",
            "|2023-01-04|     100.0|\n",
            "|2023-01-05|     102.0|\n",
            "|2023-01-06|     104.5|\n",
            "+----------+----------+\n",
            "\n"
          ]
        }
      ]
    },
    {
      "cell_type": "code",
      "source": [
        "!mkdir testdir"
      ],
      "metadata": {
        "id": "i1i5Uzt60PBy"
      },
      "execution_count": null,
      "outputs": []
    },
    {
      "cell_type": "code",
      "source": [
        "dft.write.csv(\"/testdir/sampledata.csv\")"
      ],
      "metadata": {
        "id": "Mv43zpmWz9tj"
      },
      "execution_count": null,
      "outputs": []
    },
    {
      "cell_type": "code",
      "source": [
        "!cd /testdir/"
      ],
      "metadata": {
        "id": "iHJh41Zg0YT8"
      },
      "execution_count": null,
      "outputs": []
    },
    {
      "cell_type": "code",
      "source": [
        "!ls /testdir/"
      ],
      "metadata": {
        "colab": {
          "base_uri": "https://localhost:8080/"
        },
        "id": "c5_Tx9pg0b-D",
        "outputId": "7dca5b19-1911-4f2e-ad44-977c716e4d48"
      },
      "execution_count": null,
      "outputs": [
        {
          "output_type": "stream",
          "name": "stdout",
          "text": [
            "sampledata.csv\n"
          ]
        }
      ]
    },
    {
      "cell_type": "code",
      "source": [
        "numofpartitions=dft.rdd.getNumPartitions()\n",
        "print(numofpartitions)"
      ],
      "metadata": {
        "colab": {
          "base_uri": "https://localhost:8080/"
        },
        "id": "xXIF8oRBVNYA",
        "outputId": "4210e8a1-3a13-432e-d9a8-1de7c2db149c"
      },
      "execution_count": null,
      "outputs": [
        {
          "output_type": "stream",
          "name": "stdout",
          "text": [
            "2\n"
          ]
        }
      ]
    },
    {
      "cell_type": "code",
      "source": [
        "df_repartitioned=dft.repartition(10)"
      ],
      "metadata": {
        "id": "zz5zyohwVxxW"
      },
      "execution_count": null,
      "outputs": []
    },
    {
      "cell_type": "code",
      "source": [
        "print(df_repartitioned.rdd.getNumPartitions())"
      ],
      "metadata": {
        "colab": {
          "base_uri": "https://localhost:8080/"
        },
        "id": "W8ghyafkV5kj",
        "outputId": "29ecbf32-5ee1-496f-c1a1-d9ee3904f23d"
      },
      "execution_count": null,
      "outputs": [
        {
          "output_type": "stream",
          "name": "stdout",
          "text": [
            "10\n"
          ]
        }
      ]
    },
    {
      "cell_type": "code",
      "source": [
        "df_repartitioned=dft.coalesce(4)\n",
        "print(df_repartitioned.rdd.getNumPartitions())"
      ],
      "metadata": {
        "colab": {
          "base_uri": "https://localhost:8080/"
        },
        "id": "L0F7fAHpV9_e",
        "outputId": "f935cbe8-3683-4a77-924b-0e75205a27f6"
      },
      "execution_count": null,
      "outputs": [
        {
          "output_type": "stream",
          "name": "stdout",
          "text": [
            "2\n"
          ]
        }
      ]
    },
    {
      "cell_type": "code",
      "source": [
        "#calculate a moving average of the stockprice over a 4 days window\n",
        "from pyspark.sql.window import Window\n",
        "DFT=dft.withColumn(\"MovingAvg\",F.avg(\"StockPrice\").over(Window.orderBy(\"Date\").rowsBetween(-3,0)))\n",
        "\n",
        "\n",
        "DFT.show()"
      ],
      "metadata": {
        "colab": {
          "base_uri": "https://localhost:8080/"
        },
        "id": "WK5F3IdP3Trf",
        "outputId": "dc0bec9c-fdff-43f0-979b-35d77e60d1c6"
      },
      "execution_count": null,
      "outputs": [
        {
          "output_type": "stream",
          "name": "stdout",
          "text": [
            "+----------+----------+-----------------+\n",
            "|      Date|StockPrice|        MovingAvg|\n",
            "+----------+----------+-----------------+\n",
            "|2023-01-01|     100.0|            100.0|\n",
            "|2023-01-02|     125.5|           112.75|\n",
            "|2023-01-03|    1115.0|446.8333333333333|\n",
            "|2023-01-04|     100.0|          360.125|\n",
            "|2023-01-05|     102.0|          360.625|\n",
            "|2023-01-06|     104.5|          355.375|\n",
            "+----------+----------+-----------------+\n",
            "\n"
          ]
        }
      ]
    },
    {
      "cell_type": "code",
      "source": [
        "seasonal_data=[\n",
        "    (\"2023-01-01\",\"Sunday\",500),\n",
        "    (\"2023-01-02\",\"Monday\",300),\n",
        "    (\"2023-01-03\",\"Tuesday\",320) ,\n",
        "    (\"2023-01-04\",\"Wednesday\",310),\n",
        "    (\"2023-01-05\",\"Thrusday\",330) ,\n",
        "    (\"2023-01-06\",\"Friday\",600),\n",
        "    (\"2023-01-07\",\"Saturday\",700),\n",
        "\n",
        "\n",
        "]"
      ],
      "metadata": {
        "id": "-_iZmhbI6UZb"
      },
      "execution_count": null,
      "outputs": []
    },
    {
      "cell_type": "code",
      "source": [
        "seasonal_columns=[\"Date\",\"DayOfWeek\",\"Sales\"]\n",
        "df=spark.createDataFrame(seasonal_data,seasonal_columns)\n",
        "df.show()"
      ],
      "metadata": {
        "colab": {
          "base_uri": "https://localhost:8080/"
        },
        "id": "Z9o1w2J47Qm3",
        "outputId": "5026e62a-98f1-4c6d-eb06-06a69d434e6a"
      },
      "execution_count": null,
      "outputs": [
        {
          "output_type": "stream",
          "name": "stdout",
          "text": [
            "+----------+---------+-----+\n",
            "|      Date|DayOfWeek|Sales|\n",
            "+----------+---------+-----+\n",
            "|2023-01-01|   Sunday|  500|\n",
            "|2023-01-02|   Monday|  300|\n",
            "|2023-01-03|  Tuesday|  320|\n",
            "|2023-01-04|Wednesday|  310|\n",
            "|2023-01-05| Thrusday|  330|\n",
            "|2023-01-06|   Friday|  600|\n",
            "|2023-01-07| Saturday|  700|\n",
            "+----------+---------+-----+\n",
            "\n"
          ]
        }
      ]
    },
    {
      "cell_type": "code",
      "source": [
        "df.repartition(\"year\",\"month\")"
      ],
      "metadata": {
        "id": "qOLCZW2lWW0W",
        "colab": {
          "base_uri": "https://localhost:8080/",
          "height": 351
        },
        "outputId": "b229a8ca-df1b-4911-ef21-b3eaaf0d4030"
      },
      "execution_count": null,
      "outputs": [
        {
          "output_type": "error",
          "ename": "AnalysisException",
          "evalue": "[UNRESOLVED_COLUMN.WITH_SUGGESTION] A column or function parameter with name `year` cannot be resolved. Did you mean one of the following? [`Date`, `Sales`, `DayOfWeek`].;\n'RepartitionByExpression ['year, 'month]\n+- LogicalRDD [Date#43, DayOfWeek#44, Sales#45L], false\n",
          "traceback": [
            "\u001b[0;31m---------------------------------------------------------------------------\u001b[0m",
            "\u001b[0;31mAnalysisException\u001b[0m                         Traceback (most recent call last)",
            "\u001b[0;32m<ipython-input-25-ac3e4ffca32e>\u001b[0m in \u001b[0;36m<cell line: 0>\u001b[0;34m()\u001b[0m\n\u001b[0;32m----> 1\u001b[0;31m \u001b[0mdf\u001b[0m\u001b[0;34m.\u001b[0m\u001b[0mrepartition\u001b[0m\u001b[0;34m(\u001b[0m\u001b[0;34m\"year\"\u001b[0m\u001b[0;34m,\u001b[0m\u001b[0;34m\"month\"\u001b[0m\u001b[0;34m)\u001b[0m\u001b[0;34m\u001b[0m\u001b[0;34m\u001b[0m\u001b[0m\n\u001b[0m",
            "\u001b[0;32m/usr/local/lib/python3.11/dist-packages/pyspark/sql/dataframe.py\u001b[0m in \u001b[0;36mrepartition\u001b[0;34m(self, numPartitions, *cols)\u001b[0m\n\u001b[1;32m   1754\u001b[0m         \u001b[0;32melif\u001b[0m \u001b[0misinstance\u001b[0m\u001b[0;34m(\u001b[0m\u001b[0mnumPartitions\u001b[0m\u001b[0;34m,\u001b[0m \u001b[0;34m(\u001b[0m\u001b[0mstr\u001b[0m\u001b[0;34m,\u001b[0m \u001b[0mColumn\u001b[0m\u001b[0;34m)\u001b[0m\u001b[0;34m)\u001b[0m\u001b[0;34m:\u001b[0m\u001b[0;34m\u001b[0m\u001b[0;34m\u001b[0m\u001b[0m\n\u001b[1;32m   1755\u001b[0m             \u001b[0mcols\u001b[0m \u001b[0;34m=\u001b[0m \u001b[0;34m(\u001b[0m\u001b[0mnumPartitions\u001b[0m\u001b[0;34m,\u001b[0m\u001b[0;34m)\u001b[0m \u001b[0;34m+\u001b[0m \u001b[0mcols\u001b[0m\u001b[0;34m\u001b[0m\u001b[0;34m\u001b[0m\u001b[0m\n\u001b[0;32m-> 1756\u001b[0;31m             \u001b[0;32mreturn\u001b[0m \u001b[0mDataFrame\u001b[0m\u001b[0;34m(\u001b[0m\u001b[0mself\u001b[0m\u001b[0;34m.\u001b[0m\u001b[0m_jdf\u001b[0m\u001b[0;34m.\u001b[0m\u001b[0mrepartition\u001b[0m\u001b[0;34m(\u001b[0m\u001b[0mself\u001b[0m\u001b[0;34m.\u001b[0m\u001b[0m_jcols\u001b[0m\u001b[0;34m(\u001b[0m\u001b[0;34m*\u001b[0m\u001b[0mcols\u001b[0m\u001b[0;34m)\u001b[0m\u001b[0;34m)\u001b[0m\u001b[0;34m,\u001b[0m \u001b[0mself\u001b[0m\u001b[0;34m.\u001b[0m\u001b[0msparkSession\u001b[0m\u001b[0;34m)\u001b[0m\u001b[0;34m\u001b[0m\u001b[0;34m\u001b[0m\u001b[0m\n\u001b[0m\u001b[1;32m   1757\u001b[0m         \u001b[0;32melse\u001b[0m\u001b[0;34m:\u001b[0m\u001b[0;34m\u001b[0m\u001b[0;34m\u001b[0m\u001b[0m\n\u001b[1;32m   1758\u001b[0m             raise PySparkTypeError(\n",
            "\u001b[0;32m/usr/local/lib/python3.11/dist-packages/py4j/java_gateway.py\u001b[0m in \u001b[0;36m__call__\u001b[0;34m(self, *args)\u001b[0m\n\u001b[1;32m   1320\u001b[0m \u001b[0;34m\u001b[0m\u001b[0m\n\u001b[1;32m   1321\u001b[0m         \u001b[0manswer\u001b[0m \u001b[0;34m=\u001b[0m \u001b[0mself\u001b[0m\u001b[0;34m.\u001b[0m\u001b[0mgateway_client\u001b[0m\u001b[0;34m.\u001b[0m\u001b[0msend_command\u001b[0m\u001b[0;34m(\u001b[0m\u001b[0mcommand\u001b[0m\u001b[0;34m)\u001b[0m\u001b[0;34m\u001b[0m\u001b[0;34m\u001b[0m\u001b[0m\n\u001b[0;32m-> 1322\u001b[0;31m         return_value = get_return_value(\n\u001b[0m\u001b[1;32m   1323\u001b[0m             answer, self.gateway_client, self.target_id, self.name)\n\u001b[1;32m   1324\u001b[0m \u001b[0;34m\u001b[0m\u001b[0m\n",
            "\u001b[0;32m/usr/local/lib/python3.11/dist-packages/pyspark/errors/exceptions/captured.py\u001b[0m in \u001b[0;36mdeco\u001b[0;34m(*a, **kw)\u001b[0m\n\u001b[1;32m    183\u001b[0m                 \u001b[0;31m# Hide where the exception came from that shows a non-Pythonic\u001b[0m\u001b[0;34m\u001b[0m\u001b[0;34m\u001b[0m\u001b[0m\n\u001b[1;32m    184\u001b[0m                 \u001b[0;31m# JVM exception message.\u001b[0m\u001b[0;34m\u001b[0m\u001b[0;34m\u001b[0m\u001b[0m\n\u001b[0;32m--> 185\u001b[0;31m                 \u001b[0;32mraise\u001b[0m \u001b[0mconverted\u001b[0m \u001b[0;32mfrom\u001b[0m \u001b[0;32mNone\u001b[0m\u001b[0;34m\u001b[0m\u001b[0;34m\u001b[0m\u001b[0m\n\u001b[0m\u001b[1;32m    186\u001b[0m             \u001b[0;32melse\u001b[0m\u001b[0;34m:\u001b[0m\u001b[0;34m\u001b[0m\u001b[0;34m\u001b[0m\u001b[0m\n\u001b[1;32m    187\u001b[0m                 \u001b[0;32mraise\u001b[0m\u001b[0;34m\u001b[0m\u001b[0;34m\u001b[0m\u001b[0m\n",
            "\u001b[0;31mAnalysisException\u001b[0m: [UNRESOLVED_COLUMN.WITH_SUGGESTION] A column or function parameter with name `year` cannot be resolved. Did you mean one of the following? [`Date`, `Sales`, `DayOfWeek`].;\n'RepartitionByExpression ['year, 'month]\n+- LogicalRDD [Date#43, DayOfWeek#44, Sales#45L], false\n"
          ]
        }
      ]
    },
    {
      "cell_type": "code",
      "source": [
        "def upper_case(str):\n",
        "  return str.capitalize() if str else None"
      ],
      "metadata": {
        "id": "tNmUV5nVYwFN"
      },
      "execution_count": null,
      "outputs": []
    },
    {
      "cell_type": "code",
      "source": [
        "upper_name_udf=F.udf(upper_case,T.StringType())"
      ],
      "metadata": {
        "id": "M8792Nt3Y9mZ"
      },
      "execution_count": null,
      "outputs": []
    },
    {
      "cell_type": "code",
      "source": [
        "data10=[(\"john\",25),(\"jane\",30),(\"bob\",40)]"
      ],
      "metadata": {
        "id": "R65s5AkvZO7U"
      },
      "execution_count": null,
      "outputs": []
    },
    {
      "cell_type": "code",
      "source": [
        "udfdata=spark.createDataFrame(data10,[\"Name\",\"Age\"])"
      ],
      "metadata": {
        "id": "g7QtxCxMZbxL"
      },
      "execution_count": null,
      "outputs": []
    },
    {
      "cell_type": "code",
      "source": [
        "df_upper_names=udfdata.withColumn(\"Name\",upper_name_udf(col(\"Name\")))"
      ],
      "metadata": {
        "id": "5d8JZ77zZgVH"
      },
      "execution_count": null,
      "outputs": []
    },
    {
      "cell_type": "code",
      "source": [
        "df_upper_names.show()"
      ],
      "metadata": {
        "colab": {
          "base_uri": "https://localhost:8080/"
        },
        "id": "scxrd-6BZwVO",
        "outputId": "6934ade7-ca67-4a9a-f155-5b396421ce98"
      },
      "execution_count": null,
      "outputs": [
        {
          "output_type": "stream",
          "name": "stdout",
          "text": [
            "+----+---+\n",
            "|Name|Age|\n",
            "+----+---+\n",
            "|John| 25|\n",
            "|Jane| 30|\n",
            "| Bob| 40|\n",
            "+----+---+\n",
            "\n"
          ]
        }
      ]
    },
    {
      "cell_type": "code",
      "source": [
        "df.groupBy(\"DayOfWeek\").agg(F.avg(\"Sales\").alias(\"TotalSales\")).show()"
      ],
      "metadata": {
        "colab": {
          "base_uri": "https://localhost:8080/"
        },
        "id": "RkVqfbO37cfF",
        "outputId": "5838b0be-3be5-467c-a006-37388151551f"
      },
      "execution_count": null,
      "outputs": [
        {
          "output_type": "stream",
          "name": "stdout",
          "text": [
            "+---------+----------+\n",
            "|DayOfWeek|TotalSales|\n",
            "+---------+----------+\n",
            "|  Tuesday|     320.0|\n",
            "|   Monday|     300.0|\n",
            "|   Sunday|     500.0|\n",
            "|Wednesday|     310.0|\n",
            "|   Friday|     600.0|\n",
            "| Saturday|     700.0|\n",
            "| Thrusday|     330.0|\n",
            "+---------+----------+\n",
            "\n"
          ]
        }
      ]
    },
    {
      "cell_type": "markdown",
      "source": [],
      "metadata": {
        "id": "vMgf0XhD21p3"
      }
    },
    {
      "cell_type": "markdown",
      "source": [],
      "metadata": {
        "id": "bI7QuHUW1yqm"
      }
    },
    {
      "cell_type": "code",
      "source": [
        "import random\n",
        "import pandas as pd\n",
        "def generate_customer_data(num_records):\n",
        "    data = []\n",
        "    for i in range(num_records):\n",
        "        customer_id = f\"CUST_{random.randint(1, 100)}\"\n",
        "        order_amount = round(random.uniform(-100, 10000), 2)  # Some outliers and negative values\n",
        "        order_date = pd.Timestamp.now()\n",
        "        data.append((customer_id, order_amount, order_date))\n",
        "\n",
        "        # Introduce duplicates\n",
        "        if random.random() < 0.1:\n",
        "            data.append((customer_id, order_amount, order_date))\n",
        "\n",
        "    df = pd.DataFrame(data, columns=[\"customer_id\", \"order_amount\", \"order_date\"])\n",
        "    df.to_csv(\"customer_transactions.csv\", index=False)\n",
        "\n",
        "generate_customer_data(1000)"
      ],
      "metadata": {
        "id": "TEPWqq-enDlB"
      },
      "execution_count": null,
      "outputs": []
    },
    {
      "cell_type": "code",
      "source": [
        "transaction_df = spark.read.csv(\"/content/customer_transactions.csv\", header=True, inferSchema=True)\n",
        "transaction_df.show(5)"
      ],
      "metadata": {
        "colab": {
          "base_uri": "https://localhost:8080/"
        },
        "id": "ERvycyGfnZXt",
        "outputId": "ef9116c7-6a5d-447a-9128-967d6901bbb1"
      },
      "execution_count": null,
      "outputs": [
        {
          "output_type": "stream",
          "name": "stdout",
          "text": [
            "+-----------+------------+--------------------+\n",
            "|customer_id|order_amount|          order_date|\n",
            "+-----------+------------+--------------------+\n",
            "|     CUST_9|     7093.88|2024-10-22 19:04:...|\n",
            "|    CUST_23|     8684.94|2024-10-22 19:04:...|\n",
            "|    CUST_39|     6860.83|2024-10-22 19:04:...|\n",
            "|    CUST_39|     6860.83|2024-10-22 19:04:...|\n",
            "|    CUST_74|      9668.9|2024-10-22 19:04:...|\n",
            "+-----------+------------+--------------------+\n",
            "only showing top 5 rows\n",
            "\n"
          ]
        }
      ]
    },
    {
      "cell_type": "code",
      "source": [
        "from pyspark.sql import SparkSession\n",
        "from pyspark.sql.functions import col, when, mean, stddev, count\n",
        "import random\n",
        "import pandas as pd"
      ],
      "metadata": {
        "id": "a7EpCNVmn3Wm"
      },
      "execution_count": null,
      "outputs": []
    },
    {
      "cell_type": "code",
      "source": [
        "duplicate_records = transaction_df.groupBy(\"customer_id\", \"order_amount\", \"order_date\").count().filter(col(\"count\") > 1)\n",
        "duplicate_records.show()"
      ],
      "metadata": {
        "colab": {
          "base_uri": "https://localhost:8080/"
        },
        "id": "4UhpkgPrnyD8",
        "outputId": "b55ffacd-4ed8-47cd-aa86-72e1015f0344"
      },
      "execution_count": null,
      "outputs": [
        {
          "output_type": "stream",
          "name": "stdout",
          "text": [
            "+-----------+------------+--------------------+-----+\n",
            "|customer_id|order_amount|          order_date|count|\n",
            "+-----------+------------+--------------------+-----+\n",
            "|    CUST_10|     7704.54|2024-10-22 19:04:...|    2|\n",
            "|     CUST_6|      496.99|2024-10-22 19:04:...|    2|\n",
            "|    CUST_13|      8430.1|2024-10-22 19:04:...|    2|\n",
            "|    CUST_72|     6169.04|2024-10-22 19:04:...|    2|\n",
            "|    CUST_58|     2682.49|2024-10-22 19:04:...|    2|\n",
            "|    CUST_15|     3683.59|2024-10-22 19:04:...|    2|\n",
            "|    CUST_66|     3488.26|2024-10-22 19:04:...|    2|\n",
            "|    CUST_92|     5856.94|2024-10-22 19:04:...|    2|\n",
            "|    CUST_69|     2517.31|2024-10-22 19:04:...|    2|\n",
            "|    CUST_53|     7731.28|2024-10-22 19:04:...|    2|\n",
            "|     CUST_5|     7521.57|2024-10-22 19:04:...|    2|\n",
            "|    CUST_27|     8524.63|2024-10-22 19:04:...|    2|\n",
            "|     CUST_8|     9756.26|2024-10-22 19:04:...|    2|\n",
            "|    CUST_39|     6860.83|2024-10-22 19:04:...|    2|\n",
            "|    CUST_61|     3159.78|2024-10-22 19:04:...|    2|\n",
            "|    CUST_93|     8396.82|2024-10-22 19:04:...|    2|\n",
            "|    CUST_88|     7988.05|2024-10-22 19:04:...|    2|\n",
            "|    CUST_14|     9620.38|2024-10-22 19:04:...|    2|\n",
            "|    CUST_83|     9909.58|2024-10-22 19:04:...|    2|\n",
            "|    CUST_80|     5498.73|2024-10-22 19:04:...|    2|\n",
            "+-----------+------------+--------------------+-----+\n",
            "only showing top 20 rows\n",
            "\n"
          ]
        }
      ]
    },
    {
      "cell_type": "code",
      "source": [
        "rdd = spark.sparkContext.parallelize([1,2,3,4,5])\n",
        "rdd.collect()"
      ],
      "metadata": {
        "colab": {
          "base_uri": "https://localhost:8080/"
        },
        "id": "aAI3SV5q-BJE",
        "outputId": "55af523d-817b-469c-c4d6-9e334f89b447"
      },
      "execution_count": null,
      "outputs": [
        {
          "output_type": "execute_result",
          "data": {
            "text/plain": [
              "[1, 2, 3, 4, 5]"
            ]
          },
          "metadata": {},
          "execution_count": 2
        }
      ]
    },
    {
      "cell_type": "code",
      "source": [
        "sc=spark.sparkContext\n",
        "\n"
      ],
      "metadata": {
        "id": "oWaf2U-0_fqT"
      },
      "execution_count": null,
      "outputs": []
    },
    {
      "cell_type": "code",
      "source": [
        "\n",
        "data = [1, 2, 3, 4, 5]\n",
        "rdd2 = sc.parallelize(data)\n",
        "print(rdd2.collect())"
      ],
      "metadata": {
        "colab": {
          "base_uri": "https://localhost:8080/"
        },
        "id": "HT-YzIZq_Gcj",
        "outputId": "c85b336f-2933-46fc-af1e-e168b651c21b"
      },
      "execution_count": null,
      "outputs": [
        {
          "output_type": "stream",
          "name": "stdout",
          "text": [
            "[1, 2, 3, 4, 5]\n"
          ]
        }
      ]
    },
    {
      "cell_type": "code",
      "source": [
        "data1 = [(\"a\", 1), (\"b\", 1), (\"a\", 1), (\"b\", 1), (\"a\", 1)]\n",
        "data2 = [(\"a\", 2), (\"b\", 2), (\"a\", 2), (\"b\", 2), (\"a\", 2)]\n",
        "rdd1 = sc.parallelize(data1)\n",
        "rdd2 = sc.parallelize(data2)\n",
        "rdd_join = rdd1.join(rdd2)\n",
        "print(rdd_join.collect())\n"
      ],
      "metadata": {
        "colab": {
          "base_uri": "https://localhost:8080/"
        },
        "id": "fDAjH71SA3aW",
        "outputId": "a07d5893-3c0f-4450-f96c-b926e4c82f36"
      },
      "execution_count": null,
      "outputs": [
        {
          "output_type": "stream",
          "name": "stdout",
          "text": [
            "[('b', (1, 2)), ('b', (1, 2)), ('b', (1, 2)), ('b', (1, 2)), ('a', (1, 2)), ('a', (1, 2)), ('a', (1, 2)), ('a', (1, 2)), ('a', (1, 2)), ('a', (1, 2)), ('a', (1, 2)), ('a', (1, 2)), ('a', (1, 2))]\n"
          ]
        }
      ]
    },
    {
      "cell_type": "code",
      "source": [
        "!pip install pyspark faker"
      ],
      "metadata": {
        "colab": {
          "base_uri": "https://localhost:8080/"
        },
        "id": "1YMQ9SU5lerh",
        "outputId": "b9b4551b-0079-415f-fc17-44f9b3441301"
      },
      "execution_count": null,
      "outputs": [
        {
          "output_type": "stream",
          "name": "stdout",
          "text": [
            "Requirement already satisfied: pyspark in /usr/local/lib/python3.10/dist-packages (3.5.3)\n",
            "Collecting faker\n",
            "  Downloading Faker-30.8.0-py3-none-any.whl.metadata (15 kB)\n",
            "Requirement already satisfied: py4j==0.10.9.7 in /usr/local/lib/python3.10/dist-packages (from pyspark) (0.10.9.7)\n",
            "Requirement already satisfied: python-dateutil>=2.4 in /usr/local/lib/python3.10/dist-packages (from faker) (2.8.2)\n",
            "Requirement already satisfied: typing-extensions in /usr/local/lib/python3.10/dist-packages (from faker) (4.12.2)\n",
            "Requirement already satisfied: six>=1.5 in /usr/local/lib/python3.10/dist-packages (from python-dateutil>=2.4->faker) (1.16.0)\n",
            "Downloading Faker-30.8.0-py3-none-any.whl (1.8 MB)\n",
            "\u001b[2K   \u001b[90m━━━━━━━━━━━━━━━━━━━━━━━━━━━━━━━━━━━━━━━━\u001b[0m \u001b[32m1.8/1.8 MB\u001b[0m \u001b[31m58.7 MB/s\u001b[0m eta \u001b[36m0:00:00\u001b[0m\n",
            "\u001b[?25hInstalling collected packages: faker\n",
            "Successfully installed faker-30.8.0\n"
          ]
        }
      ]
    },
    {
      "cell_type": "code",
      "source": [
        "from faker import Faker\n",
        "import random\n",
        "\n",
        "fake = Faker()\n",
        "\n",
        "# Generate synthetic healthcare claims data for 1000 claims\n",
        "\n",
        "claims_data = [(i, fake.uuid4(), fake.uuid4(), random.uniform(100, 1000), fake.date_this_year()) for i in range(1000)]\n",
        "for claim in claims_data[:5]:  # Preview the first 5 rows\n",
        "    print(claim)"
      ],
      "metadata": {
        "colab": {
          "base_uri": "https://localhost:8080/"
        },
        "id": "aEhV42yTl3l4",
        "outputId": "1b1700e4-c952-4a16-e0be-aff3144d70f8"
      },
      "execution_count": null,
      "outputs": [
        {
          "output_type": "stream",
          "name": "stdout",
          "text": [
            "(0, '49aa384a-d57b-4db7-8be3-9008e6505bd5', 'c710ce0a-805d-4989-a8da-bffab0fe955b', 697.3793658897195, datetime.date(2024, 2, 24))\n",
            "(1, '35bafc65-236c-440f-aa70-afff605947e7', '2fe9764d-33e3-494e-98fb-e0775a4cf618', 183.12649203661658, datetime.date(2024, 1, 6))\n",
            "(2, 'c414d09c-8e63-4961-88c6-eb76d63b62e5', '883bf2b4-4dfb-4e9f-903b-2eb5f02b2a67', 849.729343772666, datetime.date(2024, 8, 6))\n",
            "(3, '6949a30b-a1dd-47f5-b3de-93f7332f851f', '7faa921b-5aa1-4210-a142-2f3edc134042', 830.3353266296738, datetime.date(2024, 2, 9))\n",
            "(4, '687de738-e26d-4e97-b9b9-d8337788d7b3', 'c6bb9cad-1321-4c54-babf-c4adc48a1641', 186.8624853394632, datetime.date(2024, 2, 6))\n"
          ]
        }
      ]
    },
    {
      "cell_type": "code",
      "source": [
        "# Create an RDD from claims data\n",
        "claims_rdd = sc.parallelize(claims_data)\n",
        "claims_rdd.take(5)  # Preview first 5 rows of the RDD"
      ],
      "metadata": {
        "colab": {
          "base_uri": "https://localhost:8080/"
        },
        "id": "qarpN5vdl-Ca",
        "outputId": "4a800edc-6dff-436f-ba37-d16a967c8a98"
      },
      "execution_count": null,
      "outputs": [
        {
          "output_type": "execute_result",
          "data": {
            "text/plain": [
              "[(0,\n",
              "  '49aa384a-d57b-4db7-8be3-9008e6505bd5',\n",
              "  'c710ce0a-805d-4989-a8da-bffab0fe955b',\n",
              "  697.3793658897195,\n",
              "  datetime.date(2024, 2, 24)),\n",
              " (1,\n",
              "  '35bafc65-236c-440f-aa70-afff605947e7',\n",
              "  '2fe9764d-33e3-494e-98fb-e0775a4cf618',\n",
              "  183.12649203661658,\n",
              "  datetime.date(2024, 1, 6)),\n",
              " (2,\n",
              "  'c414d09c-8e63-4961-88c6-eb76d63b62e5',\n",
              "  '883bf2b4-4dfb-4e9f-903b-2eb5f02b2a67',\n",
              "  849.729343772666,\n",
              "  datetime.date(2024, 8, 6)),\n",
              " (3,\n",
              "  '6949a30b-a1dd-47f5-b3de-93f7332f851f',\n",
              "  '7faa921b-5aa1-4210-a142-2f3edc134042',\n",
              "  830.3353266296738,\n",
              "  datetime.date(2024, 2, 9)),\n",
              " (4,\n",
              "  '687de738-e26d-4e97-b9b9-d8337788d7b3',\n",
              "  'c6bb9cad-1321-4c54-babf-c4adc48a1641',\n",
              "  186.8624853394632,\n",
              "  datetime.date(2024, 2, 6))]"
            ]
          },
          "metadata": {},
          "execution_count": 30
        }
      ]
    },
    {
      "cell_type": "code",
      "source": [
        "# Filter claims with claim_amount > 500\n",
        "high_value_claims_rdd = claims_rdd.filter(lambda x: x[3] > 500)\n",
        "high_value_claims_rdd.take(5)  # Preview high-value claims"
      ],
      "metadata": {
        "colab": {
          "base_uri": "https://localhost:8080/"
        },
        "id": "WGDe88cpmVqR",
        "outputId": "140e35e4-a9cc-4519-d7e8-342cd601b776"
      },
      "execution_count": null,
      "outputs": [
        {
          "output_type": "execute_result",
          "data": {
            "text/plain": [
              "[(0,\n",
              "  '49aa384a-d57b-4db7-8be3-9008e6505bd5',\n",
              "  'c710ce0a-805d-4989-a8da-bffab0fe955b',\n",
              "  697.3793658897195,\n",
              "  datetime.date(2024, 2, 24)),\n",
              " (2,\n",
              "  'c414d09c-8e63-4961-88c6-eb76d63b62e5',\n",
              "  '883bf2b4-4dfb-4e9f-903b-2eb5f02b2a67',\n",
              "  849.729343772666,\n",
              "  datetime.date(2024, 8, 6)),\n",
              " (3,\n",
              "  '6949a30b-a1dd-47f5-b3de-93f7332f851f',\n",
              "  '7faa921b-5aa1-4210-a142-2f3edc134042',\n",
              "  830.3353266296738,\n",
              "  datetime.date(2024, 2, 9)),\n",
              " (5,\n",
              "  '30a911f4-20ef-4050-b171-e08398c7c9b9',\n",
              "  'a74bb6f6-f41a-4b66-9936-18574081319d',\n",
              "  889.9702445483689,\n",
              "  datetime.date(2024, 9, 2)),\n",
              " (8,\n",
              "  '9e412651-6065-4023-bc36-230ebea57392',\n",
              "  '9990a918-cfde-43c1-910f-1f38be9bf322',\n",
              "  551.5068029994274,\n",
              "  datetime.date(2024, 6, 14))]"
            ]
          },
          "metadata": {},
          "execution_count": 31
        }
      ]
    },
    {
      "cell_type": "code",
      "source": [
        "# Calculate total claim amount\n",
        "total_claim_amount = claims_rdd.map(lambda x: x[3]).reduce(lambda a, b: a + b)\n",
        "print(f\"Total Claim Amount: ${total_claim_amount}\")"
      ],
      "metadata": {
        "colab": {
          "base_uri": "https://localhost:8080/"
        },
        "id": "-vT_xVdBmbLj",
        "outputId": "289707c3-1832-46b4-db80-0bd6e7d0ebc5"
      },
      "execution_count": null,
      "outputs": [
        {
          "output_type": "stream",
          "name": "stdout",
          "text": [
            "Total Claim Amount: $571884.5146364479\n"
          ]
        }
      ]
    },
    {
      "cell_type": "code",
      "source": [
        "import matplotlib.pyplot as plt\n",
        "\n",
        "# Extract claim amounts for visualization\n",
        "\n",
        "claim_amounts = claims_rdd.map(lambda x: x[3]).collect()\n",
        "\n",
        "# Plot histogram of claim amounts\n",
        "\n",
        "plt.hist(claim_amounts, bins=20)\n",
        "plt.title(\"Distribution of Healthcare Claim Amounts\")\n",
        "plt.xlabel(\"Claim Amount\")\n",
        "plt.ylabel(\"Frequency\")\n",
        "plt.show()"
      ],
      "metadata": {
        "colab": {
          "base_uri": "https://localhost:8080/",
          "height": 472
        },
        "id": "R_nU2f59mhHO",
        "outputId": "642d4a6e-6004-43b4-c34b-943a812168be"
      },
      "execution_count": null,
      "outputs": [
        {
          "output_type": "display_data",
          "data": {
            "text/plain": [
              "<Figure size 640x480 with 1 Axes>"
            ],
            "image/png": "[encoded data removed]"
          },
          "metadata": {}
        }
      ]
    },
    {
      "cell_type": "code",
      "source": [
        "from pyspark import SparkContext"
      ],
      "metadata": {
        "id": "g7Mmzx_vKzNg"
      },
      "execution_count": null,
      "outputs": []
    },
    {
      "cell_type": "code",
      "source": [
        "sc"
      ],
      "metadata": {
        "colab": {
          "base_uri": "https://localhost:8080/",
          "height": 196
        },
        "id": "NtZN19EfLZQV",
        "outputId": "b33e9470-cbb4-4ac0-d9a7-78dea8ec2500"
      },
      "execution_count": null,
      "outputs": [
        {
          "output_type": "execute_result",
          "data": {
            "text/plain": [
              "<SparkContext master=local[*] appName=Our First Spark Example>"
            ],
            "text/html": [
              "\n",
              "        <div>\n",
              "            <p><b>SparkContext</b></p>\n",
              "\n",
              "            <p><a href=\"http://9dbe72891ace:4040\">Spark UI</a></p>\n",
              "\n",
              "            <dl>\n",
              "              <dt>Version</dt>\n",
              "                <dd><code>v3.5.3</code></dd>\n",
              "              <dt>Master</dt>\n",
              "                <dd><code>local[*]</code></dd>\n",
              "              <dt>AppName</dt>\n",
              "                <dd><code>Our First Spark Example</code></dd>\n",
              "            </dl>\n",
              "        </div>\n",
              "        "
            ]
          },
          "metadata": {},
          "execution_count": 8
        }
      ]
    },
    {
      "cell_type": "code",
      "source": [
        "sales_data=[(1,101,1001,2,50,\"2024-10-01\"),(2,102,1002,1,20,\"2024-10-02\"),(3,103,1003,2,20,\"2024-10-03\")]"
      ],
      "metadata": {
        "id": "Yfgo4xXPLej5"
      },
      "execution_count": null,
      "outputs": []
    },
    {
      "cell_type": "code",
      "source": [
        "sales_data"
      ],
      "metadata": {
        "colab": {
          "base_uri": "https://localhost:8080/"
        },
        "id": "8rw05OU7L3bG",
        "outputId": "c6a38f6e-2dec-42aa-8d9f-bd659693d3c4"
      },
      "execution_count": null,
      "outputs": [
        {
          "output_type": "execute_result",
          "data": {
            "text/plain": [
              "[(1, 101, 1001, 2, 50, '2024-10-01'),\n",
              " (2, 102, 1002, 1, 20, '2024-10-02'),\n",
              " (3, 103, 1003, 2, 20, '2024-10-03')]"
            ]
          },
          "metadata": {},
          "execution_count": 10
        }
      ]
    },
    {
      "cell_type": "code",
      "source": [
        "sales_rdd=sc.parallelize(sales_data)"
      ],
      "metadata": {
        "id": "2go-F-JcL9Vx"
      },
      "execution_count": null,
      "outputs": []
    },
    {
      "cell_type": "code",
      "source": [
        "from datetime import datetime"
      ],
      "metadata": {
        "id": "bnCypZoxMMc0"
      },
      "execution_count": null,
      "outputs": []
    },
    {
      "cell_type": "code",
      "source": [
        "def filter_sales_data(sale):\n",
        "  sales_date=datetime.strptime(sale[5],\"%Y-%m-%d\")\n",
        "  return  sales_date.year > datetime.strptime(\"2024-10-02\",\"%Y-%m-%d\").year\n",
        "\n",
        "filtered_sales_rdd=sales_rdd.filter(filter_sales_data)\n"
      ],
      "metadata": {
        "id": "QnVMT8hOMVSw"
      },
      "execution_count": null,
      "outputs": []
    },
    {
      "cell_type": "code",
      "source": [
        "sales_rdd.collect()"
      ],
      "metadata": {
        "colab": {
          "base_uri": "https://localhost:8080/"
        },
        "id": "VoGK2AjdM5gJ",
        "outputId": "dca92c06-274e-4cad-dcfb-6c108bc30bf0"
      },
      "execution_count": null,
      "outputs": [
        {
          "output_type": "execute_result",
          "data": {
            "text/plain": [
              "[(1, 101, 1001, 2, 50, '2024-10-01'),\n",
              " (2, 102, 1002, 1, 20, '2024-10-02'),\n",
              " (3, 103, 1003, 2, 20, '2024-10-03')]"
            ]
          },
          "metadata": {},
          "execution_count": 19
        }
      ]
    },
    {
      "cell_type": "code",
      "source": [
        "sales_rdd.count()"
      ],
      "metadata": {
        "colab": {
          "base_uri": "https://localhost:8080/"
        },
        "id": "Hw9BenywNYdY",
        "outputId": "cb2d33f0-6de8-4ca2-e0db-64e95a6dc284"
      },
      "execution_count": null,
      "outputs": [
        {
          "output_type": "execute_result",
          "data": {
            "text/plain": [
              "3"
            ]
          },
          "metadata": {},
          "execution_count": 23
        }
      ]
    },
    {
      "cell_type": "code",
      "source": [
        "sales_rdd.take(2)"
      ],
      "metadata": {
        "id": "GdcJuOtaNnSF"
      },
      "execution_count": null,
      "outputs": []
    },
    {
      "cell_type": "code",
      "source": [
        "sales_rdd.saveAsTextFile(\"sales_data.txt\")"
      ],
      "metadata": {
        "id": "oalMIvUDNpV3"
      },
      "execution_count": null,
      "outputs": []
    },
    {
      "cell_type": "code",
      "source": [],
      "metadata": {
        "id": "OLm8UprCP3cP"
      },
      "execution_count": null,
      "outputs": []
    },
    {
      "cell_type": "code",
      "source": [
        "from pyspark.sql.functions import sum\n",
        "data=[(\"North\",\"ProductA\",100),(\"North\",\"ProductB\",200),(\"South\",\"ProductB\",200),(\"South\",\"ProductB\",200)]"
      ],
      "metadata": {
        "id": "UVLHsOOahzwP"
      },
      "execution_count": null,
      "outputs": []
    },
    {
      "cell_type": "code",
      "source": [
        "columns=[\"Region\",\"Product\",\"Sales\"]\n",
        "df=spark.createDataFrame(data,columns)\n",
        "df.show()"
      ],
      "metadata": {
        "colab": {
          "base_uri": "https://localhost:8080/"
        },
        "id": "6GX67loUikFf",
        "outputId": "13de2565-6407-4b90-9a2c-62d6249052c1"
      },
      "execution_count": null,
      "outputs": [
        {
          "output_type": "stream",
          "name": "stdout",
          "text": [
            "+------+--------+-----+\n",
            "|Region| Product|Sales|\n",
            "+------+--------+-----+\n",
            "| North|ProductA|  100|\n",
            "| North|ProductB|  200|\n",
            "| South|ProductB|  200|\n",
            "| South|ProductB|  200|\n",
            "+------+--------+-----+\n",
            "\n"
          ]
        }
      ]
    },
    {
      "cell_type": "code",
      "source": [
        "pdf=df.groupBy(\"Region\").pivot(\"Product\").agg(sum(\"Sales\").alias(\"TotalSales\"))\n",
        "pdf.show()"
      ],
      "metadata": {
        "colab": {
          "base_uri": "https://localhost:8080/"
        },
        "id": "-Y6xa79Ai_Jk",
        "outputId": "4a42dc3a-a738-4463-b453-76da750e3fc9"
      },
      "execution_count": null,
      "outputs": [
        {
          "output_type": "stream",
          "name": "stdout",
          "text": [
            "+------+--------+--------+\n",
            "|Region|ProductA|ProductB|\n",
            "+------+--------+--------+\n",
            "| South|    NULL|     400|\n",
            "| North|     100|     200|\n",
            "+------+--------+--------+\n",
            "\n"
          ]
        }
      ]
    },
    {
      "cell_type": "code",
      "source": [
        "mdf=pdf.select"
      ],
      "metadata": {
        "id": "CWKAIcOUkLKd"
      },
      "execution_count": null,
      "outputs": []
    },
    {
      "cell_type": "code",
      "source": [
        "from pyspark.sql.functions import expr"
      ],
      "metadata": {
        "id": "j1sXzvaNkYvP"
      },
      "execution_count": null,
      "outputs": []
    },
    {
      "cell_type": "code",
      "source": [
        "mdf=pdf.select(\"Region\",expr(\"stack('ProductA','ProductB') as (Product,Product,Sales)\")).filter(\"Sales is not null\")"
      ],
      "metadata": {
        "colab": {
          "base_uri": "https://localhost:8080/",
          "height": 316
        },
        "id": "NZbbotpIkfDD",
        "outputId": "8a48d14e-c4b4-4dc5-8b2c-a04e7e468f88"
      },
      "execution_count": null,
      "outputs": [
        {
          "output_type": "error",
          "ename": "AnalysisException",
          "evalue": "[UDTF_ALIAS_NUMBER_MISMATCH] The number of aliases supplied in the AS clause does not match the number of columns output by the UDTF. Expected 2 aliases, but got Product,Product,Sales. Please ensure that the number of aliases provided matches the number of columns output by the UDTF.",
          "traceback": [
            "\u001b[0;31m---------------------------------------------------------------------------\u001b[0m",
            "\u001b[0;31mAnalysisException\u001b[0m                         Traceback (most recent call last)",
            "\u001b[0;32m<ipython-input-15-f27e9786144a>\u001b[0m in \u001b[0;36m<cell line: 1>\u001b[0;34m()\u001b[0m\n\u001b[0;32m----> 1\u001b[0;31m \u001b[0mmdf\u001b[0m\u001b[0;34m=\u001b[0m\u001b[0mpdf\u001b[0m\u001b[0;34m.\u001b[0m\u001b[0mselect\u001b[0m\u001b[0;34m(\u001b[0m\u001b[0;34m\"Region\"\u001b[0m\u001b[0;34m,\u001b[0m\u001b[0mexpr\u001b[0m\u001b[0;34m(\u001b[0m\u001b[0;34m\"stack(1,'ProductA','ProductB') as (Product,Product,Sales)\"\u001b[0m\u001b[0;34m)\u001b[0m\u001b[0;34m)\u001b[0m\u001b[0;34m.\u001b[0m\u001b[0mfilter\u001b[0m\u001b[0;34m(\u001b[0m\u001b[0;34m\"Sales is not null\"\u001b[0m\u001b[0;34m)\u001b[0m\u001b[0;34m\u001b[0m\u001b[0;34m\u001b[0m\u001b[0m\n\u001b[0m",
            "\u001b[0;32m/usr/local/lib/python3.10/dist-packages/pyspark/sql/dataframe.py\u001b[0m in \u001b[0;36mselect\u001b[0;34m(self, *cols)\u001b[0m\n\u001b[1;32m   3227\u001b[0m         \u001b[0;34m+\u001b[0m\u001b[0;34m-\u001b[0m\u001b[0;34m-\u001b[0m\u001b[0;34m-\u001b[0m\u001b[0;34m-\u001b[0m\u001b[0;34m-\u001b[0m\u001b[0;34m+\u001b[0m\u001b[0;34m-\u001b[0m\u001b[0;34m-\u001b[0m\u001b[0;34m-\u001b[0m\u001b[0;34m+\u001b[0m\u001b[0;34m\u001b[0m\u001b[0;34m\u001b[0m\u001b[0m\n\u001b[1;32m   3228\u001b[0m         \"\"\"\n\u001b[0;32m-> 3229\u001b[0;31m         \u001b[0mjdf\u001b[0m \u001b[0;34m=\u001b[0m \u001b[0mself\u001b[0m\u001b[0;34m.\u001b[0m\u001b[0m_jdf\u001b[0m\u001b[0;34m.\u001b[0m\u001b[0mselect\u001b[0m\u001b[0;34m(\u001b[0m\u001b[0mself\u001b[0m\u001b[0;34m.\u001b[0m\u001b[0m_jcols\u001b[0m\u001b[0;34m(\u001b[0m\u001b[0;34m*\u001b[0m\u001b[0mcols\u001b[0m\u001b[0;34m)\u001b[0m\u001b[0;34m)\u001b[0m\u001b[0;34m\u001b[0m\u001b[0;34m\u001b[0m\u001b[0m\n\u001b[0m\u001b[1;32m   3230\u001b[0m         \u001b[0;32mreturn\u001b[0m \u001b[0mDataFrame\u001b[0m\u001b[0;34m(\u001b[0m\u001b[0mjdf\u001b[0m\u001b[0;34m,\u001b[0m \u001b[0mself\u001b[0m\u001b[0;34m.\u001b[0m\u001b[0msparkSession\u001b[0m\u001b[0;34m)\u001b[0m\u001b[0;34m\u001b[0m\u001b[0;34m\u001b[0m\u001b[0m\n\u001b[1;32m   3231\u001b[0m \u001b[0;34m\u001b[0m\u001b[0m\n",
            "\u001b[0;32m/usr/local/lib/python3.10/dist-packages/py4j/java_gateway.py\u001b[0m in \u001b[0;36m__call__\u001b[0;34m(self, *args)\u001b[0m\n\u001b[1;32m   1320\u001b[0m \u001b[0;34m\u001b[0m\u001b[0m\n\u001b[1;32m   1321\u001b[0m         \u001b[0manswer\u001b[0m \u001b[0;34m=\u001b[0m \u001b[0mself\u001b[0m\u001b[0;34m.\u001b[0m\u001b[0mgateway_client\u001b[0m\u001b[0;34m.\u001b[0m\u001b[0msend_command\u001b[0m\u001b[0;34m(\u001b[0m\u001b[0mcommand\u001b[0m\u001b[0;34m)\u001b[0m\u001b[0;34m\u001b[0m\u001b[0;34m\u001b[0m\u001b[0m\n\u001b[0;32m-> 1322\u001b[0;31m         return_value = get_return_value(\n\u001b[0m\u001b[1;32m   1323\u001b[0m             answer, self.gateway_client, self.target_id, self.name)\n\u001b[1;32m   1324\u001b[0m \u001b[0;34m\u001b[0m\u001b[0m\n",
            "\u001b[0;32m/usr/local/lib/python3.10/dist-packages/pyspark/errors/exceptions/captured.py\u001b[0m in \u001b[0;36mdeco\u001b[0;34m(*a, **kw)\u001b[0m\n\u001b[1;32m    183\u001b[0m                 \u001b[0;31m# Hide where the exception came from that shows a non-Pythonic\u001b[0m\u001b[0;34m\u001b[0m\u001b[0;34m\u001b[0m\u001b[0m\n\u001b[1;32m    184\u001b[0m                 \u001b[0;31m# JVM exception message.\u001b[0m\u001b[0;34m\u001b[0m\u001b[0;34m\u001b[0m\u001b[0m\n\u001b[0;32m--> 185\u001b[0;31m                 \u001b[0;32mraise\u001b[0m \u001b[0mconverted\u001b[0m \u001b[0;32mfrom\u001b[0m \u001b[0;32mNone\u001b[0m\u001b[0;34m\u001b[0m\u001b[0;34m\u001b[0m\u001b[0m\n\u001b[0m\u001b[1;32m    186\u001b[0m             \u001b[0;32melse\u001b[0m\u001b[0;34m:\u001b[0m\u001b[0;34m\u001b[0m\u001b[0;34m\u001b[0m\u001b[0m\n\u001b[1;32m    187\u001b[0m                 \u001b[0;32mraise\u001b[0m\u001b[0;34m\u001b[0m\u001b[0;34m\u001b[0m\u001b[0m\n",
            "\u001b[0;31mAnalysisException\u001b[0m: [UDTF_ALIAS_NUMBER_MISMATCH] The number of aliases supplied in the AS clause does not match the number of columns output by the UDTF. Expected 2 aliases, but got Product,Product,Sales. Please ensure that the number of aliases provided matches the number of columns output by the UDTF."
          ]
        }
      ]
    },
    {
      "cell_type": "code",
      "source": [
        "mdf.show()"
      ],
      "metadata": {
        "colab": {
          "base_uri": "https://localhost:8080/"
        },
        "id": "fku-NnAVllHH",
        "outputId": "d2e8d43a-13dd-415e-bfca-4453daef53c8"
      },
      "execution_count": null,
      "outputs": [
        {
          "output_type": "stream",
          "name": "stdout",
          "text": [
            "+------+--------+--------+\n",
            "|Region| Product|   Sales|\n",
            "+------+--------+--------+\n",
            "| North|ProductA|ProductB|\n",
            "| South|ProductA|ProductB|\n",
            "+------+--------+--------+\n",
            "\n"
          ]
        }
      ]
    },
    {
      "cell_type": "code",
      "source": [
        "spark"
      ],
      "metadata": {
        "colab": {
          "base_uri": "https://localhost:8080/",
          "height": 222
        },
        "id": "TXaGeljxT5zR",
        "outputId": "7310c919-88e3-4e9d-eef2-61a4dc57a569"
      },
      "execution_count": null,
      "outputs": [
        {
          "output_type": "execute_result",
          "data": {
            "text/plain": [
              "<pyspark.sql.session.SparkSession at 0x7e0612e967d0>"
            ],
            "text/html": [
              "\n",
              "            <div>\n",
              "                <p><b>SparkSession - in-memory</b></p>\n",
              "                \n",
              "        <div>\n",
              "            <p><b>SparkContext</b></p>\n",
              "\n",
              "            <p><a href=\"http://8ca596138ee1:4040\">Spark UI</a></p>\n",
              "\n",
              "            <dl>\n",
              "              <dt>Version</dt>\n",
              "                <dd><code>v3.5.4</code></dd>\n",
              "              <dt>Master</dt>\n",
              "                <dd><code>local[*]</code></dd>\n",
              "              <dt>AppName</dt>\n",
              "                <dd><code>Our First Spark Example</code></dd>\n",
              "            </dl>\n",
              "        </div>\n",
              "        \n",
              "            </div>\n",
              "        "
            ]
          },
          "metadata": {},
          "execution_count": 34
        }
      ]
    },
    {
      "cell_type": "code",
      "source": [
        "from pyspark.sql import Row\n",
        "data= [Row(Exp=1, hours=35,project=2,salary=20000), Row(Exp=3,hours=45,project=4,salary=40000),\n",
        "      Row(Exp=5,hours=50,project=5,salary=60000),Row(Exp=7,hours=60,project=5,salary=80000),\n",
        "       Row(Exp=10,hours=70,project=5,salary=100000)]\n",
        "df = spark.createDataFrame(data)\n",
        "df.show()"
      ],
      "metadata": {
        "colab": {
          "base_uri": "https://localhost:8080/"
        },
        "id": "41eaqfU9UWLa",
        "outputId": "a5996d7d-0724-4b35-fe3c-eff55e09e98f"
      },
      "execution_count": null,
      "outputs": [
        {
          "output_type": "stream",
          "name": "stdout",
          "text": [
            "+---+-----+-------+------+\n",
            "|Exp|hours|project|salary|\n",
            "+---+-----+-------+------+\n",
            "|  1|   35|      2| 20000|\n",
            "|  3|   45|      4| 40000|\n",
            "|  5|   50|      5| 60000|\n",
            "|  7|   60|      5| 80000|\n",
            "| 10|   70|      5|100000|\n",
            "+---+-----+-------+------+\n",
            "\n"
          ]
        }
      ]
    },
    {
      "cell_type": "code",
      "source": [
        "#Spark ML needs features in a single vector columns\n",
        "from pyspark.ml.feature import VectorAssembler\n",
        "assembler=VectorAssembler(inputCols=[\"Exp\",\"hours\",\"project\"],outputCol=\"features\")\n",
        "df_transformed=assembler.transform(df)\n",
        "df_transformed.show()"
      ],
      "metadata": {
        "colab": {
          "base_uri": "https://localhost:8080/"
        },
        "id": "l8z6ZWOQVZ40",
        "outputId": "e45809ab-9604-4f47-c633-dc75aa5944f1"
      },
      "execution_count": null,
      "outputs": [
        {
          "output_type": "stream",
          "name": "stdout",
          "text": [
            "+---+-----+-------+------+---------------+\n",
            "|Exp|hours|project|salary|       features|\n",
            "+---+-----+-------+------+---------------+\n",
            "|  1|   35|      2| 20000| [1.0,35.0,2.0]|\n",
            "|  3|   45|      4| 40000| [3.0,45.0,4.0]|\n",
            "|  5|   50|      5| 60000| [5.0,50.0,5.0]|\n",
            "|  7|   60|      5| 80000| [7.0,60.0,5.0]|\n",
            "| 10|   70|      5|100000|[10.0,70.0,5.0]|\n",
            "+---+-----+-------+------+---------------+\n",
            "\n"
          ]
        }
      ]
    },
    {
      "cell_type": "code",
      "source": [
        "df_final=df_transformed.select(\"features\",\"salary\")\n",
        "df_final.show()"
      ],
      "metadata": {
        "colab": {
          "base_uri": "https://localhost:8080/"
        },
        "id": "aeM2Uh-XVsA0",
        "outputId": "20569d7f-7cd6-48e6-bfa3-bea916b134cb"
      },
      "execution_count": null,
      "outputs": [
        {
          "output_type": "stream",
          "name": "stdout",
          "text": [
            "+---------------+------+\n",
            "|       features|salary|\n",
            "+---------------+------+\n",
            "| [1.0,35.0,2.0]| 20000|\n",
            "| [3.0,45.0,4.0]| 40000|\n",
            "| [5.0,50.0,5.0]| 60000|\n",
            "| [7.0,60.0,5.0]| 80000|\n",
            "|[10.0,70.0,5.0]|100000|\n",
            "+---------------+------+\n",
            "\n"
          ]
        }
      ]
    },
    {
      "cell_type": "code",
      "source": [
        "# select split ratio"
      ],
      "metadata": {
        "id": "eAhry-ADV_hv"
      },
      "execution_count": null,
      "outputs": []
    },
    {
      "cell_type": "code",
      "source": [
        "train_df,tst_df=df_final.randomSplit([0.8,0.2],seed=42)"
      ],
      "metadata": {
        "id": "rZTM0OkYWCTQ"
      },
      "execution_count": null,
      "outputs": []
    },
    {
      "cell_type": "code",
      "source": [
        "train_df.show()"
      ],
      "metadata": {
        "colab": {
          "base_uri": "https://localhost:8080/"
        },
        "id": "mB3H0lV3WNEg",
        "outputId": "9ef7702d-cd92-4a52-c628-00f2afcccda3"
      },
      "execution_count": null,
      "outputs": [
        {
          "output_type": "stream",
          "name": "stdout",
          "text": [
            "+---------------+------+\n",
            "|       features|salary|\n",
            "+---------------+------+\n",
            "| [1.0,35.0,2.0]| 20000|\n",
            "| [3.0,45.0,4.0]| 40000|\n",
            "| [7.0,60.0,5.0]| 80000|\n",
            "|[10.0,70.0,5.0]|100000|\n",
            "+---------------+------+\n",
            "\n"
          ]
        }
      ]
    },
    {
      "cell_type": "code",
      "source": [
        "tst_df.show()"
      ],
      "metadata": {
        "colab": {
          "base_uri": "https://localhost:8080/"
        },
        "id": "hKXcP7cvWOAM",
        "outputId": "7ca0671a-1e02-4b03-dd3b-dedd11ad5a8b"
      },
      "execution_count": null,
      "outputs": [
        {
          "output_type": "stream",
          "name": "stdout",
          "text": [
            "+--------------+------+\n",
            "|      features|salary|\n",
            "+--------------+------+\n",
            "|[5.0,50.0,5.0]| 60000|\n",
            "+--------------+------+\n",
            "\n"
          ]
        }
      ]
    },
    {
      "cell_type": "code",
      "source": [
        "from pyspark.ml.regression import LinearRegression\n",
        "from pyspark.ml.evaluation import RegressionEvaluator\n",
        "\n",
        "lrm=LinearRegression(featuresCol=\"features\",labelCol=\"salary\")\n",
        "lrm_model=lrm.fit(train_df)"
      ],
      "metadata": {
        "id": "JepZtxymWSqG"
      },
      "execution_count": null,
      "outputs": []
    },
    {
      "cell_type": "code",
      "source": [
        "print(lrm_model.coefficients)\n",
        "print(lrm_model.intercept)"
      ],
      "metadata": {
        "colab": {
          "base_uri": "https://localhost:8080/"
        },
        "id": "FBKCCxBEWkYi",
        "outputId": "b22ed315-a6b7-4586-d45a-b93e1dc4b94a"
      },
      "execution_count": null,
      "outputs": [
        {
          "output_type": "stream",
          "name": "stdout",
          "text": [
            "[3730.653733135238,1280.8038800594304,1198.6601999009247]\n",
            "-31622.776601683792\n"
          ]
        }
      ]
    },
    {
      "cell_type": "code",
      "source": [
        "predictions=lrm_model.transform(tst_df)\n",
        "predictions.show()"
      ],
      "metadata": {
        "colab": {
          "base_uri": "https://localhost:8080/"
        },
        "id": "TNyMlDTUWy68",
        "outputId": "67362554-cc79-4dbc-dd4a-c26dadcbef52"
      },
      "execution_count": null,
      "outputs": [
        {
          "output_type": "stream",
          "name": "stdout",
          "text": [
            "+--------------+------+-----------------+\n",
            "|      features|salary|       prediction|\n",
            "+--------------+------+-----------------+\n",
            "|[5.0,50.0,5.0]| 60000|57063.98706646855|\n",
            "+--------------+------+-----------------+\n",
            "\n"
          ]
        }
      ]
    },
    {
      "cell_type": "code",
      "source": [
        "#MAE R2 Score\n",
        "\n",
        "evaluator=RegressionEvaluator(labelCol=\"salary\",predictionCol=\"prediction\",metricName=\"mae\")\n",
        "mae=evaluator.evaluate(predictions)\n"
      ],
      "metadata": {
        "colab": {
          "base_uri": "https://localhost:8080/"
        },
        "id": "PIGTgu3lW8e3",
        "outputId": "f10feee0-c70a-4709-d23f-10dd4d6b6a02"
      },
      "execution_count": null,
      "outputs": [
        {
          "output_type": "stream",
          "name": "stdout",
          "text": [
            "-inf\n"
          ]
        }
      ]
    },
    {
      "cell_type": "code",
      "source": [
        "evaluator2=RegressionEvaluator(labelCol=\"salary\",predictionCol=\"prediction\",metricName=\"r2\")\n",
        "r2score=evaluator2.evaluate(predictions)\n",
        "print(r2score)"
      ],
      "metadata": {
        "colab": {
          "base_uri": "https://localhost:8080/"
        },
        "id": "UtEVmCXkXdE1",
        "outputId": "97851026-12eb-438f-bf7f-574ee3753620"
      },
      "execution_count": null,
      "outputs": [
        {
          "output_type": "stream",
          "name": "stdout",
          "text": [
            "-inf\n"
          ]
        }
      ]
    },
    {
      "cell_type": "code",
      "source": [
        "evaluator3=RegressionEvaluator(labelCol=\"salary\",predictionCol=\"prediction\",metricName=\"rmse\")\n",
        "rmse=evaluator3.evaluate(predictions)\n",
        "print(rmse)"
      ],
      "metadata": {
        "colab": {
          "base_uri": "https://localhost:8080/"
        },
        "id": "iPk5UqJ7Xkjr",
        "outputId": "7880995f-c33d-42ad-807e-b12897dab1f8"
      },
      "execution_count": null,
      "outputs": [
        {
          "output_type": "stream",
          "name": "stdout",
          "text": [
            "2936.0129335314487\n"
          ]
        }
      ]
    },
    {
      "cell_type": "code",
      "source": [
        "lrm_model.save(\"lrm_model\")"
      ],
      "metadata": {
        "id": "SyBq8fKXXvpB"
      },
      "execution_count": null,
      "outputs": []
    }
  ]
}